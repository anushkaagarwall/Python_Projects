{
  "nbformat": 4,
  "nbformat_minor": 0,
  "metadata": {
    "colab": {
      "provenance": [],
      "include_colab_link": true
    },
    "kernelspec": {
      "name": "python3",
      "display_name": "Python 3"
    },
    "language_info": {
      "name": "python"
    }
  },
  "cells": [
    {
      "cell_type": "markdown",
      "metadata": {
        "id": "view-in-github",
        "colab_type": "text"
      },
      "source": [
        "<a href=\"https://colab.research.google.com/github/anushkaagarwall/Python_Projects/blob/main/IML.ipynb\" target=\"_parent\"><img src=\"https://colab.research.google.com/assets/colab-badge.svg\" alt=\"Open In Colab\"/></a>"
      ]
    },
    {
      "cell_type": "code",
      "execution_count": null,
      "metadata": {
        "colab": {
          "base_uri": "https://localhost:8080/"
        },
        "id": "C7GMqY6Ufs3d",
        "outputId": "f43963dd-d4a6-4c13-aa42-b6e496d5275e"
      },
      "outputs": [
        {
          "output_type": "stream",
          "name": "stdout",
          "text": [
            "     sky    at       h       w water forecast enjoysport\n",
            "0  sunny  warm  normal  strong  warm     same        yes\n",
            "1  sunny  warm    high  strong  warm     same        yes\n",
            "2  rainy  cold    high  strong  cold   change         no\n",
            "3  sunny  warm    high  strong  warm   change        yes\n",
            "['warm', 'normal', 'strong', 'warm', 'same', 'yes']\n",
            "['warm', '?', 'strong', 'warm', 'same', 'yes']\n",
            "['warm', '?', 'strong', 'warm', '?', 'yes']\n"
          ]
        }
      ],
      "source": [
        "#find-s\n",
        "import pandas as pd\n",
        "df=pd.read_csv('/content/Book1.csv')\n",
        "print(df.head())\n",
        "h=['x','x','x','x','x','x']\n",
        "data=df.iloc[:,1:]\n",
        "\n",
        "for i in range(len(df)):\n",
        "  if (df['enjoysport'][i])=='yes':\n",
        "    for j in range(len(h)):\n",
        "      if h[j]=='x' or h[j]==data.iloc[i,j]:\n",
        "        h[j]=data.iloc[i,j]\n",
        "      elif h[j]!=data.iloc[i,j]:\n",
        "        h[j]='?'\n",
        "    print(h)"
      ]
    },
    {
      "cell_type": "code",
      "source": [
        "#candidate elimination\n",
        "import pandas as pd\n",
        "\n",
        "df1 = pd.read_csv('/content/book1 (1).csv', skiprows=1, header=None)\n",
        "df1.columns = df1.iloc[0]\n",
        "df1 = df1[1:]\n",
        "data = df1.iloc[:, :].reset_index(drop=True)\n",
        "data1 = data.values.tolist()\n",
        "\n",
        "# Initialize s and g\n",
        "s = data1[0][:-1]  # Initialize s with the first training example without the class label\n",
        "g = [['?' for _ in range(len(s))] for _ in range(len(s))]  # Initialize g with '?'\n",
        "\n",
        "# Candidate Elimination Algorithm\n",
        "for i in data1:\n",
        "\n",
        "  if i[-1] == 'yes':\n",
        "    for j in range(len(s)):\n",
        "      if i[j] != s[j]:\n",
        "        s[j] = '?'\n",
        "        g[j][j] = '?'\n",
        "  elif i[-1] == 'no':\n",
        "    for j in range(len(s)):\n",
        "      if i[j] != s[j]:\n",
        "        g[j][j] = s[j]  # Set g[j][j] to the current value of s[j]\n",
        "      else:\n",
        "        g[j][j] = '?'  # Set g[j][j] to '?' only if i[j] == s[j]\n",
        "    print(g)\n",
        "# Refine g\n",
        "gh = []\n",
        "for i in g:\n",
        "    temp = []\n",
        "    for j in i:\n",
        "        temp.append(j)\n",
        "    if set(temp) != {'?'}:  # Exclude lists containing only '?'\n",
        "        gh.append(temp)\n",
        "\n",
        "print(\"s:\", s)\n",
        "print(\"g:\", gh)"
      ],
      "metadata": {
        "id": "-v7sG8XthpzR",
        "colab": {
          "base_uri": "https://localhost:8080/"
        },
        "outputId": "367f7199-96b8-47a0-8480-abda786a809f"
      },
      "execution_count": null,
      "outputs": [
        {
          "output_type": "stream",
          "name": "stdout",
          "text": [
            "[['sunny', '?', '?', '?', '?', '?'], ['?', 'warm', '?', '?', '?', '?'], ['?', '?', '?', '?', '?', '?'], ['?', '?', '?', '?', '?', '?'], ['?', '?', '?', '?', '?', '?'], ['?', '?', '?', '?', '?', 'same']]\n",
            "s: ['sunny', 'warm', 'high', 'strong', '?', '?']\n",
            "g: [['sunny', '?', '?', '?', '?', '?'], ['?', 'warm', '?', '?', '?', '?']]\n"
          ]
        }
      ]
    },
    {
      "cell_type": "markdown",
      "source": [
        "##Information gain\n",
        "##calculate the entropy for the values of attributes"
      ],
      "metadata": {
        "id": "KkMzWxVJi7wQ"
      }
    },
    {
      "cell_type": "code",
      "source": [
        "#id3 decision tree\n",
        "import pandas as pd\n",
        "from sklearn.feature_selection import mutual_info_classif\n",
        "from collections import Counter\n",
        "\n",
        "def id3(df,target_att,att_names,mappings):\n",
        "  cnt=Counter(x for x in df[target_att])\n",
        "  if len(cnt)==1:\n",
        "    return (next(iter(cnt)))\n",
        "  else:\n",
        "    gains=mutual_info_classif(df[att_names],df[target_att],discrete_features=True)\n",
        "    index_of_max=gains.tolist().index(max(gains))\n",
        "    best_att=att_names[index_of_max]\n",
        "    tree={best_att:{}}\n",
        "    remaining_att=[]\n",
        "    for i in att_names:\n",
        "      if i!=best_att:\n",
        "        remaining_att.append(i)\n",
        "\n",
        "    for att_val,data_subset in df.groupby(best_att):\n",
        "      subtree=id3(data_subset,target_att,remaining_att,mappings)\n",
        "      original_value = mappings[best_att][att_val]\n",
        "      tree[best_att][att_val]=subtree\n",
        "    return tree\n",
        "\n",
        "df=pd.read_csv(\"/content/algorithm.csv\")\n",
        "att_names=df.columns.tolist()\n",
        "att_names.remove('enjoysport')\n",
        "mappings = {}\n",
        "for colname in df.select_dtypes(include=['object']):\n",
        "  df[colname], unique_values = df[colname].factorize()\n",
        "  mappings[colname] = {i: val for i, val in enumerate(unique_values)}\n",
        "\n",
        "# Build the decision tree\n",
        "tree = id3(df, \"enjoysport\", att_names, mappings)\n",
        "print(tree)"
      ],
      "metadata": {
        "id": "NSQBQeJIvwtj",
        "colab": {
          "base_uri": "https://localhost:8080/"
        },
        "outputId": "61b55dfa-50b5-440d-a0e3-600bf2a2fafc"
      },
      "execution_count": null,
      "outputs": [
        {
          "output_type": "stream",
          "name": "stdout",
          "text": [
            "{'sky': {0: 0, 1: 1}}\n"
          ]
        }
      ]
    },
    {
      "cell_type": "code",
      "source": [
        "import numpy as np\n",
        "import matplotlib.pyplot as plt\n",
        "\n",
        "positive_set = [(3, 1), (3, -1), (6, 1), (6, -1)]\n",
        "negative_set = [(1, 0), (0, 1), (0, -1), (-1, 0)]\n",
        "\n",
        "pos=np.array(positive_set)\n",
        "neg=np.array(negative_set)\n",
        "\n",
        "plt.scatter(pos[:,0],pos[:,1],color='b',label='positive')\n",
        "plt.scatter(neg[:,0],neg[:,1],color='r',label='negative')\n",
        "plt.xlabel('Feature 1')\n",
        "plt.ylabel('Feature 2')\n",
        "plt.title('Positive and Negative Points')\n",
        "\n",
        "m = -2\n",
        "b = 2\n",
        "\n",
        "# Define the point\n",
        "point = (1, 0)\n",
        "\n",
        "# Generate x values\n",
        "x_values = np.linspace(-1, 3, 100)\n",
        "\n",
        "# Calculate y values using the equation y = mx + b\n",
        "y_values = m * x_values + b\n",
        "\n",
        "# Plot the line\n",
        "plt.plot(x_values, y_values, label='y = -2x + 2')\n",
        "\n",
        "# Plot the point\n",
        "plt.scatter(*point, color='red', label='Point (1,0)')\n",
        "plt.grid(True)\n",
        "plt.show()"
      ],
      "metadata": {
        "colab": {
          "base_uri": "https://localhost:8080/",
          "height": 472
        },
        "id": "nSdx9alRn3YN",
        "outputId": "ba4eb04a-81c3-4090-8215-c0f8c4b9daa6"
      },
      "execution_count": null,
      "outputs": [
        {
          "output_type": "display_data",
          "data": {
            "text/plain": [
              "<Figure size 640x480 with 1 Axes>"
            ],
            "image/png": "[encoded data removed]"
          },
          "metadata": {}
        }
      ]
    },
    {
      "cell_type": "code",
      "source": [
        "#svm\n",
        "import pandas as pd\n",
        "import numpy as np\n",
        "import matplotlib.pyplot as plt\n"
      ],
      "metadata": {
        "id": "t3c4s_W4Rc-f"
      },
      "execution_count": null,
      "outputs": []
    },
    {
      "cell_type": "code",
      "source": [
        "df=pd.read_csv('/content/cell_samples.csv')\n",
        "print(df.head())\n",
        "df['Class'].value_counts()\n",
        "print(df.shape)\n",
        "# this means in the class there are two values 2 and 4 and the number of times 2 and 4 occur"
      ],
      "metadata": {
        "colab": {
          "base_uri": "https://localhost:8080/"
        },
        "id": "uUntB-IwSTJP",
        "outputId": "89b277ed-2b83-4e25-b5d8-e713e9e378a4"
      },
      "execution_count": null,
      "outputs": [
        {
          "output_type": "stream",
          "name": "stdout",
          "text": [
            "        ID  Clump  UnifSize  UnifShape  MargAdh  SingEpiSize BareNuc  \\\n",
            "0  1000025      5         1          1        1            2       1   \n",
            "1  1002945      5         4          4        5            7      10   \n",
            "2  1015425      3         1          1        1            2       2   \n",
            "3  1016277      6         8          8        1            3       4   \n",
            "4  1017023      4         1          1        3            2       1   \n",
            "\n",
            "   BlandChrom  NormNucl  Mit  Class  \n",
            "0           3         1    1      2  \n",
            "1           3         2    1      2  \n",
            "2           3         1    1      2  \n",
            "3           3         7    1      2  \n",
            "4           3         1    1      2  \n",
            "(699, 11)\n"
          ]
        }
      ]
    },
    {
      "cell_type": "code",
      "source": [
        "malignant= df[df['Class']==4][0:200]\n",
        "bengin=df[df['Class']==2][0:200]\n",
        "axes=bengin.plot(x='Clump',y='UnifSize',kind='scatter',color='b')\n",
        "malignant.plot(x='Clump',y='UnifSize',kind='scatter',color='r',ax=axes)"
      ],
      "metadata": {
        "colab": {
          "base_uri": "https://localhost:8080/",
          "height": 466
        },
        "id": "e-a2Av7ETeMi",
        "outputId": "2f468f58-725d-4cd8-bdb7-b5a566c69271"
      },
      "execution_count": null,
      "outputs": [
        {
          "output_type": "execute_result",
          "data": {
            "text/plain": [
              "<Axes: xlabel='Clump', ylabel='UnifSize'>"
            ]
          },
          "metadata": {},
          "execution_count": 8
        },
        {
          "output_type": "display_data",
          "data": {
            "text/plain": [
              "<Figure size 640x480 with 1 Axes>"
            ],
            "image/png": "[encoded data removed]"
          },
          "metadata": {}
        }
      ]
    },
    {
      "cell_type": "code",
      "source": [
        "df=df[pd.to_numeric(df['BareNuc'],errors='coerce').notnull()]\n",
        "df['BareNuc']=df['BareNuc'].astype('int')\n",
        "df.dtypes"
      ],
      "metadata": {
        "colab": {
          "base_uri": "https://localhost:8080/"
        },
        "id": "d3B8KBVbUudW",
        "outputId": "c806d74f-ee27-47a2-e18a-511b3da0d171"
      },
      "execution_count": null,
      "outputs": [
        {
          "output_type": "execute_result",
          "data": {
            "text/plain": [
              "ID             int64\n",
              "Clump          int64\n",
              "UnifSize       int64\n",
              "UnifShape      int64\n",
              "MargAdh        int64\n",
              "SingEpiSize    int64\n",
              "BareNuc        int64\n",
              "BlandChrom     int64\n",
              "NormNucl       int64\n",
              "Mit            int64\n",
              "Class          int64\n",
              "dtype: object"
            ]
          },
          "metadata": {},
          "execution_count": 12
        }
      ]
    },
    {
      "cell_type": "code",
      "source": [
        "df.columns\n",
        "features=df[['Clump', 'UnifSize', 'UnifShape', 'MargAdh', 'SingEpiSize',\n",
        "       'BareNuc', 'BlandChrom', 'NormNucl', 'Mit']]\n",
        "\n",
        "x=np.asarray(features)\n",
        "y=np.asarray(df['Class'])\n",
        "x[0:5]#values of those 9 features"
      ],
      "metadata": {
        "colab": {
          "base_uri": "https://localhost:8080/"
        },
        "id": "VRJpKDW3VhFq",
        "outputId": "99376ddc-0fb1-401d-ff05-56ba7ba3da87"
      },
      "execution_count": null,
      "outputs": [
        {
          "output_type": "execute_result",
          "data": {
            "text/plain": [
              "array([[ 5,  1,  1,  1,  2,  1,  3,  1,  1],\n",
              "       [ 5,  4,  4,  5,  7, 10,  3,  2,  1],\n",
              "       [ 3,  1,  1,  1,  2,  2,  3,  1,  1],\n",
              "       [ 6,  8,  8,  1,  3,  4,  3,  7,  1],\n",
              "       [ 4,  1,  1,  3,  2,  1,  3,  1,  1]])"
            ]
          },
          "metadata": {},
          "execution_count": 14
        }
      ]
    },
    {
      "cell_type": "code",
      "source": [
        "from sklearn.model_selection import train_test_split\n",
        "x_train,x_test,y_train,y_test=train_test_split(x,y,test_size=0.2,random_state=4)\n"
      ],
      "metadata": {
        "id": "NfT-A-kbWjZ0"
      },
      "execution_count": null,
      "outputs": []
    },
    {
      "cell_type": "code",
      "source": [
        "from sklearn import svm\n",
        "classifier=svm.SVC(kernel='linear',gamma='auto',C=2)\n",
        "classifier.fit(x_train,y_train)\n",
        "y_pred=classifier.predict(x_test)\n"
      ],
      "metadata": {
        "id": "1xlay14JX0CH"
      },
      "execution_count": null,
      "outputs": []
    },
    {
      "cell_type": "code",
      "source": [
        "from sklearn.metrics import classification_report\n",
        "print(classification_report(y_test,y_pred))"
      ],
      "metadata": {
        "colab": {
          "base_uri": "https://localhost:8080/"
        },
        "id": "mKlxtJBuY8BU",
        "outputId": "6e91cedc-94f1-49d3-bc44-88f79f24f32a"
      },
      "execution_count": null,
      "outputs": [
        {
          "output_type": "stream",
          "name": "stdout",
          "text": [
            "              precision    recall  f1-score   support\n",
            "\n",
            "           2       1.00      0.94      0.97        90\n",
            "           4       0.90      1.00      0.95        47\n",
            "\n",
            "    accuracy                           0.96       137\n",
            "   macro avg       0.95      0.97      0.96       137\n",
            "weighted avg       0.97      0.96      0.96       137\n",
            "\n"
          ]
        }
      ]
    },
    {
      "cell_type": "code",
      "source": [
        "#knn\n",
        "import pandas as pd\n",
        "\n",
        "import matplotlib.pyplot as plt\n",
        "from sklearn.model_selection import train_test_split\n",
        "from sklearn.preprocessing import StandardScaler\n",
        "from sklearn.neighbors import KNeighborsClassifier\n",
        "from sklearn.metrics import confusion_matrix\n",
        "import seaborn as sns\n"
      ],
      "metadata": {
        "id": "t1FUaIF8ZEnb"
      },
      "execution_count": null,
      "outputs": []
    },
    {
      "cell_type": "code",
      "source": [
        "df1=pd.read_csv('/content/Iris (1).csv')\n",
        "print(df1.head())\n",
        "print(df1.shape)\n"
      ],
      "metadata": {
        "colab": {
          "base_uri": "https://localhost:8080/"
        },
        "id": "XdQYED4mf3Cs",
        "outputId": "cc91e0cc-d136-4f32-a80f-bb56d70e2f28"
      },
      "execution_count": null,
      "outputs": [
        {
          "output_type": "stream",
          "name": "stdout",
          "text": [
            "   Id  SepalLengthCm  SepalWidthCm  PetalLengthCm  PetalWidthCm      Species\n",
            "0   1            5.1           3.5            1.4           0.2  Iris-setosa\n",
            "1   2            4.9           3.0            1.4           0.2  Iris-setosa\n",
            "2   3            4.7           3.2            1.3           0.2  Iris-setosa\n",
            "3   4            4.6           3.1            1.5           0.2  Iris-setosa\n",
            "4   5            5.0           3.6            1.4           0.2  Iris-setosa\n",
            "(150, 6)\n"
          ]
        }
      ]
    },
    {
      "cell_type": "code",
      "source": [
        "df1=df1.drop('Id',axis=1)\n",
        "df1=df1.drop('PetalLengthCm',axis=1)\n",
        "df1=df1.drop('PetalWidthCm',axis=1)\n",
        "no_zero=['SepalLengthCm',  'SepalWidthCm']\n",
        "for column in no_zero:\n",
        "  df1[column]=df1[column].replace(0,np.NaN)\n",
        "  mean=int(df1[column].mean(skipna=True))\n",
        "  df1[column]=df1[column].replace(np.NaN,mean)\n",
        "df1.head()"
      ],
      "metadata": {
        "id": "_QPd8Ob8gLRk",
        "colab": {
          "base_uri": "https://localhost:8080/",
          "height": 206
        },
        "outputId": "037228a1-d42f-49ad-f097-e351ae4e5d77"
      },
      "execution_count": null,
      "outputs": [
        {
          "output_type": "execute_result",
          "data": {
            "text/plain": [
              "   SepalLengthCm  SepalWidthCm      Species\n",
              "0            5.1           3.5  Iris-setosa\n",
              "1            4.9           3.0  Iris-setosa\n",
              "2            4.7           3.2  Iris-setosa\n",
              "3            4.6           3.1  Iris-setosa\n",
              "4            5.0           3.6  Iris-setosa"
            ],
            "text/html": [
              "\n",
              "  <div id=\"df-31d957bc-65c2-49c4-85d7-31f27f00db62\" class=\"colab-df-container\">\n",
              "    <div>\n",
              "<style scoped>\n",
              "    .dataframe tbody tr th:only-of-type {\n",
              "        vertical-align: middle;\n",
              "    }\n",
              "\n",
              "    .dataframe tbody tr th {\n",
              "        vertical-align: top;\n",
              "    }\n",
              "\n",
              "    .dataframe thead th {\n",
              "        text-align: right;\n",
              "    }\n",
              "</style>\n",
              "<table border=\"1\" class=\"dataframe\">\n",
              "  <thead>\n",
              "    <tr style=\"text-align: right;\">\n",
              "      <th></th>\n",
              "      <th>SepalLengthCm</th>\n",
              "      <th>SepalWidthCm</th>\n",
              "      <th>Species</th>\n",
              "    </tr>\n",
              "  </thead>\n",
              "  <tbody>\n",
              "    <tr>\n",
              "      <th>0</th>\n",
              "      <td>5.1</td>\n",
              "      <td>3.5</td>\n",
              "      <td>Iris-setosa</td>\n",
              "    </tr>\n",
              "    <tr>\n",
              "      <th>1</th>\n",
              "      <td>4.9</td>\n",
              "      <td>3.0</td>\n",
              "      <td>Iris-setosa</td>\n",
              "    </tr>\n",
              "    <tr>\n",
              "      <th>2</th>\n",
              "      <td>4.7</td>\n",
              "      <td>3.2</td>\n",
              "      <td>Iris-setosa</td>\n",
              "    </tr>\n",
              "    <tr>\n",
              "      <th>3</th>\n",
              "      <td>4.6</td>\n",
              "      <td>3.1</td>\n",
              "      <td>Iris-setosa</td>\n",
              "    </tr>\n",
              "    <tr>\n",
              "      <th>4</th>\n",
              "      <td>5.0</td>\n",
              "      <td>3.6</td>\n",
              "      <td>Iris-setosa</td>\n",
              "    </tr>\n",
              "  </tbody>\n",
              "</table>\n",
              "</div>\n",
              "    <div class=\"colab-df-buttons\">\n",
              "\n",
              "  <div class=\"colab-df-container\">\n",
              "    <button class=\"colab-df-convert\" onclick=\"convertToInteractive('df-31d957bc-65c2-49c4-85d7-31f27f00db62')\"\n",
              "            title=\"Convert this dataframe to an interactive table.\"\n",
              "            style=\"display:none;\">\n",
              "\n",
              "  <svg xmlns=\"http://www.w3.org/2000/svg\" height=\"24px\" viewBox=\"0 -960 960 960\">\n",
              "    <path d=\"M120-120v-720h720v720H120Zm60-500h600v-160H180v160Zm220 220h160v-160H400v160Zm0 220h160v-160H400v160ZM180-400h160v-160H180v160Zm440 0h160v-160H620v160ZM180-180h160v-160H180v160Zm440 0h160v-160H620v160Z\"/>\n",
              "  </svg>\n",
              "    </button>\n",
              "\n",
              "  <style>\n",
              "    .colab-df-container {\n",
              "      display:flex;\n",
              "      gap: 12px;\n",
              "    }\n",
              "\n",
              "    .colab-df-convert {\n",
              "      background-color: #E8F0FE;\n",
              "      border: none;\n",
              "      border-radius: 50%;\n",
              "      cursor: pointer;\n",
              "      display: none;\n",
              "      fill: #1967D2;\n",
              "      height: 32px;\n",
              "      padding: 0 0 0 0;\n",
              "      width: 32px;\n",
              "    }\n",
              "\n",
              "    .colab-df-convert:hover {\n",
              "      background-color: #E2EBFA;\n",
              "      box-shadow: 0px 1px 2px rgba(60, 64, 67, 0.3), 0px 1px 3px 1px rgba(60, 64, 67, 0.15);\n",
              "      fill: #174EA6;\n",
              "    }\n",
              "\n",
              "    .colab-df-buttons div {\n",
              "      margin-bottom: 4px;\n",
              "    }\n",
              "\n",
              "    [theme=dark] .colab-df-convert {\n",
              "      background-color: #3B4455;\n",
              "      fill: #D2E3FC;\n",
              "    }\n",
              "\n",
              "    [theme=dark] .colab-df-convert:hover {\n",
              "      background-color: #434B5C;\n",
              "      box-shadow: 0px 1px 3px 1px rgba(0, 0, 0, 0.15);\n",
              "      filter: drop-shadow(0px 1px 2px rgba(0, 0, 0, 0.3));\n",
              "      fill: #FFFFFF;\n",
              "    }\n",
              "  </style>\n",
              "\n",
              "    <script>\n",
              "      const buttonEl =\n",
              "        document.querySelector('#df-31d957bc-65c2-49c4-85d7-31f27f00db62 button.colab-df-convert');\n",
              "      buttonEl.style.display =\n",
              "        google.colab.kernel.accessAllowed ? 'block' : 'none';\n",
              "\n",
              "      async function convertToInteractive(key) {\n",
              "        const element = document.querySelector('#df-31d957bc-65c2-49c4-85d7-31f27f00db62');\n",
              "        const dataTable =\n",
              "          await google.colab.kernel.invokeFunction('convertToInteractive',\n",
              "                                                    [key], {});\n",
              "        if (!dataTable) return;\n",
              "\n",
              "        const docLinkHtml = 'Like what you see? Visit the ' +\n",
              "          '<a target=\"_blank\" href=https://colab.research.google.com/notebooks/data_table.ipynb>data table notebook</a>'\n",
              "          + ' to learn more about interactive tables.';\n",
              "        element.innerHTML = '';\n",
              "        dataTable['output_type'] = 'display_data';\n",
              "        await google.colab.output.renderOutput(dataTable, element);\n",
              "        const docLink = document.createElement('div');\n",
              "        docLink.innerHTML = docLinkHtml;\n",
              "        element.appendChild(docLink);\n",
              "      }\n",
              "    </script>\n",
              "  </div>\n",
              "\n",
              "\n",
              "<div id=\"df-486e5da5-3c85-43c9-b198-9a5b670622fa\">\n",
              "  <button class=\"colab-df-quickchart\" onclick=\"quickchart('df-486e5da5-3c85-43c9-b198-9a5b670622fa')\"\n",
              "            title=\"Suggest charts\"\n",
              "            style=\"display:none;\">\n",
              "\n",
              "<svg xmlns=\"http://www.w3.org/2000/svg\" height=\"24px\"viewBox=\"0 0 24 24\"\n",
              "     width=\"24px\">\n",
              "    <g>\n",
              "        <path d=\"M19 3H5c-1.1 0-2 .9-2 2v14c0 1.1.9 2 2 2h14c1.1 0 2-.9 2-2V5c0-1.1-.9-2-2-2zM9 17H7v-7h2v7zm4 0h-2V7h2v10zm4 0h-2v-4h2v4z\"/>\n",
              "    </g>\n",
              "</svg>\n",
              "  </button>\n",
              "\n",
              "<style>\n",
              "  .colab-df-quickchart {\n",
              "      --bg-color: #E8F0FE;\n",
              "      --fill-color: #1967D2;\n",
              "      --hover-bg-color: #E2EBFA;\n",
              "      --hover-fill-color: #174EA6;\n",
              "      --disabled-fill-color: #AAA;\n",
              "      --disabled-bg-color: #DDD;\n",
              "  }\n",
              "\n",
              "  [theme=dark] .colab-df-quickchart {\n",
              "      --bg-color: #3B4455;\n",
              "      --fill-color: #D2E3FC;\n",
              "      --hover-bg-color: #434B5C;\n",
              "      --hover-fill-color: #FFFFFF;\n",
              "      --disabled-bg-color: #3B4455;\n",
              "      --disabled-fill-color: #666;\n",
              "  }\n",
              "\n",
              "  .colab-df-quickchart {\n",
              "    background-color: var(--bg-color);\n",
              "    border: none;\n",
              "    border-radius: 50%;\n",
              "    cursor: pointer;\n",
              "    display: none;\n",
              "    fill: var(--fill-color);\n",
              "    height: 32px;\n",
              "    padding: 0;\n",
              "    width: 32px;\n",
              "  }\n",
              "\n",
              "  .colab-df-quickchart:hover {\n",
              "    background-color: var(--hover-bg-color);\n",
              "    box-shadow: 0 1px 2px rgba(60, 64, 67, 0.3), 0 1px 3px 1px rgba(60, 64, 67, 0.15);\n",
              "    fill: var(--button-hover-fill-color);\n",
              "  }\n",
              "\n",
              "  .colab-df-quickchart-complete:disabled,\n",
              "  .colab-df-quickchart-complete:disabled:hover {\n",
              "    background-color: var(--disabled-bg-color);\n",
              "    fill: var(--disabled-fill-color);\n",
              "    box-shadow: none;\n",
              "  }\n",
              "\n",
              "  .colab-df-spinner {\n",
              "    border: 2px solid var(--fill-color);\n",
              "    border-color: transparent;\n",
              "    border-bottom-color: var(--fill-color);\n",
              "    animation:\n",
              "      spin 1s steps(1) infinite;\n",
              "  }\n",
              "\n",
              "  @keyframes spin {\n",
              "    0% {\n",
              "      border-color: transparent;\n",
              "      border-bottom-color: var(--fill-color);\n",
              "      border-left-color: var(--fill-color);\n",
              "    }\n",
              "    20% {\n",
              "      border-color: transparent;\n",
              "      border-left-color: var(--fill-color);\n",
              "      border-top-color: var(--fill-color);\n",
              "    }\n",
              "    30% {\n",
              "      border-color: transparent;\n",
              "      border-left-color: var(--fill-color);\n",
              "      border-top-color: var(--fill-color);\n",
              "      border-right-color: var(--fill-color);\n",
              "    }\n",
              "    40% {\n",
              "      border-color: transparent;\n",
              "      border-right-color: var(--fill-color);\n",
              "      border-top-color: var(--fill-color);\n",
              "    }\n",
              "    60% {\n",
              "      border-color: transparent;\n",
              "      border-right-color: var(--fill-color);\n",
              "    }\n",
              "    80% {\n",
              "      border-color: transparent;\n",
              "      border-right-color: var(--fill-color);\n",
              "      border-bottom-color: var(--fill-color);\n",
              "    }\n",
              "    90% {\n",
              "      border-color: transparent;\n",
              "      border-bottom-color: var(--fill-color);\n",
              "    }\n",
              "  }\n",
              "</style>\n",
              "\n",
              "  <script>\n",
              "    async function quickchart(key) {\n",
              "      const quickchartButtonEl =\n",
              "        document.querySelector('#' + key + ' button');\n",
              "      quickchartButtonEl.disabled = true;  // To prevent multiple clicks.\n",
              "      quickchartButtonEl.classList.add('colab-df-spinner');\n",
              "      try {\n",
              "        const charts = await google.colab.kernel.invokeFunction(\n",
              "            'suggestCharts', [key], {});\n",
              "      } catch (error) {\n",
              "        console.error('Error during call to suggestCharts:', error);\n",
              "      }\n",
              "      quickchartButtonEl.classList.remove('colab-df-spinner');\n",
              "      quickchartButtonEl.classList.add('colab-df-quickchart-complete');\n",
              "    }\n",
              "    (() => {\n",
              "      let quickchartButtonEl =\n",
              "        document.querySelector('#df-486e5da5-3c85-43c9-b198-9a5b670622fa button');\n",
              "      quickchartButtonEl.style.display =\n",
              "        google.colab.kernel.accessAllowed ? 'block' : 'none';\n",
              "    })();\n",
              "  </script>\n",
              "</div>\n",
              "\n",
              "    </div>\n",
              "  </div>\n"
            ],
            "application/vnd.google.colaboratory.intrinsic+json": {
              "type": "dataframe",
              "variable_name": "df1",
              "summary": "{\n  \"name\": \"df1\",\n  \"rows\": 150,\n  \"fields\": [\n    {\n      \"column\": \"SepalLengthCm\",\n      \"properties\": {\n        \"dtype\": \"number\",\n        \"std\": 0.828066127977863,\n        \"min\": 4.3,\n        \"max\": 7.9,\n        \"num_unique_values\": 35,\n        \"samples\": [\n          6.2,\n          4.5,\n          5.6\n        ],\n        \"semantic_type\": \"\",\n        \"description\": \"\"\n      }\n    },\n    {\n      \"column\": \"SepalWidthCm\",\n      \"properties\": {\n        \"dtype\": \"number\",\n        \"std\": 0.4335943113621737,\n        \"min\": 2.0,\n        \"max\": 4.4,\n        \"num_unique_values\": 23,\n        \"samples\": [\n          2.3,\n          4.0,\n          3.5\n        ],\n        \"semantic_type\": \"\",\n        \"description\": \"\"\n      }\n    },\n    {\n      \"column\": \"Species\",\n      \"properties\": {\n        \"dtype\": \"category\",\n        \"num_unique_values\": 3,\n        \"samples\": [\n          \"Iris-setosa\",\n          \"Iris-versicolor\",\n          \"Iris-virginica\"\n        ],\n        \"semantic_type\": \"\",\n        \"description\": \"\"\n      }\n    }\n  ]\n}"
            }
          },
          "metadata": {},
          "execution_count": 42
        }
      ]
    },
    {
      "cell_type": "code",
      "source": [
        "plt.figure(figsize=(10, 6))\n",
        "sns.scatterplot(data=df1, x='SepalLengthCm', y='SepalWidthCm', hue='Species', palette='viridis')\n",
        "plt.title('Sepal Length vs Sepal Width')\n",
        "plt.xlabel('Sepal Length (cm)')\n",
        "plt.ylabel('Sepal Width (cm)')\n",
        "plt.legend(title='Species')\n",
        "plt.show()"
      ],
      "metadata": {
        "colab": {
          "base_uri": "https://localhost:8080/",
          "height": 564
        },
        "id": "0-IvCQ9vZ87w",
        "outputId": "145586c4-dbd3-4149-ea87-cb0f47b42f27"
      },
      "execution_count": null,
      "outputs": [
        {
          "output_type": "display_data",
          "data": {
            "text/plain": [
              "<Figure size 1000x600 with 1 Axes>"
            ],
            "image/png": "[encoded data removed]"
          },
          "metadata": {}
        }
      ]
    },
    {
      "cell_type": "code",
      "source": [
        "x=df1.iloc[:,0:2]\n",
        "y=df1.iloc[:,2]\n",
        "x_train,x_test,y_train,y_test=train_test_split(x,y,test_size=0.2,random_state=0)\n",
        "sc_x=StandardScaler()\n",
        "x_train=sc_x.fit_transform(x_train)\n",
        "x_test=sc_x.transform(x_test)\n",
        "print(y_train.shape)"
      ],
      "metadata": {
        "colab": {
          "base_uri": "https://localhost:8080/"
        },
        "id": "T7aYmEEkhit9",
        "outputId": "5f4ae0be-9134-43a2-8519-11b0adff54a3"
      },
      "execution_count": null,
      "outputs": [
        {
          "output_type": "stream",
          "name": "stdout",
          "text": [
            "(120,)\n"
          ]
        }
      ]
    },
    {
      "cell_type": "code",
      "source": [
        "classifier=KNeighborsClassifier(n_neighbors=11,p=2,metric='euclidean')\n",
        "classifier.fit(x_train,y_train)\n",
        "y_pred=classifier.predict(x_test)\n",
        "cm=confusion_matrix(y_test,y_pred)\n",
        "print(cm)"
      ],
      "metadata": {
        "colab": {
          "base_uri": "https://localhost:8080/"
        },
        "id": "PIaWh4ThifDW",
        "outputId": "19d3893b-5cff-4a0d-a2fb-4435bc517397"
      },
      "execution_count": null,
      "outputs": [
        {
          "output_type": "stream",
          "name": "stdout",
          "text": [
            "[[11  0  0]\n",
            " [ 0  5  8]\n",
            " [ 0  3  3]]\n"
          ]
        }
      ]
    },
    {
      "cell_type": "code",
      "source": [
        "new_sample = [[5.9, 3]]\n",
        "new_sample_df = pd.DataFrame(new_sample, columns=no_zero)\n",
        "\n",
        "\n",
        "\n",
        "\n",
        "new_sample_scaled = sc_x.transform(new_sample_df)\n",
        "\n",
        "new_prediction = classifier.predict(new_sample_scaled)\n",
        "print(f'The predicted class for sepal length 5.2 and sepal width 3.1 is: {new_prediction[0]}')"
      ],
      "metadata": {
        "colab": {
          "base_uri": "https://localhost:8080/"
        },
        "id": "q56HpeJ2KBJT",
        "outputId": "8ba1368e-4095-407d-ca3d-b6461d6a544e"
      },
      "execution_count": null,
      "outputs": [
        {
          "output_type": "stream",
          "name": "stdout",
          "text": [
            "The predicted class for sepal length 5.2 and sepal width 3.1 is: Iris-versicolor\n"
          ]
        }
      ]
    },
    {
      "cell_type": "code",
      "source": [
        "print(accuracy_score(y_test,y_pred)*100)"
      ],
      "metadata": {
        "colab": {
          "base_uri": "https://localhost:8080/"
        },
        "id": "3IeCYlWvjKyB",
        "outputId": "bcc803b2-cdef-42c2-d45d-e3c2550e9671"
      },
      "execution_count": null,
      "outputs": [
        {
          "output_type": "stream",
          "name": "stdout",
          "text": [
            "63.33333333333333\n"
          ]
        }
      ]
    },
    {
      "cell_type": "code",
      "source": [
        "import numpy as np\n",
        "import pandas as pd\n",
        "from sklearn.decomposition import PCA\n",
        "from sklearn.preprocessing import StandardScalar\n",
        "\n",
        "iris=pd.read_csv('')\n",
        "data=iris[['ouoedeuw','owieruio','ehyrwu']].values\n",
        "target=iris['target'].values\n",
        "tn=iris['target'].unique()\n",
        "\n",
        "s=StandardScalar()\n",
        "d=s.fit_transform(data)\n",
        "pca=PCA(n_components=2)\n",
        "pc=pca.fit_transform(d)\n",
        "pcd=pd.DataFrame(data=pc,columns=['PC1','PC2'])\n",
        "final_df=pd.concat([pcd,pd.DataFrame(target,columns=['target'])],axis=1)\n",
        "\n",
        "plt.figure(figsize=(8,6))\n",
        "colors=['r','g','b']\n",
        "for target,colors,label in zip(target_names,colors,target_names):\n",
        "  indices=final_df['target']==target\n",
        "  plt.scatter(final_df.loc[indices,'PC1'],final_df.loc[indices,'PC2'],c=color,s=50,label=label)\n",
        "\n"
      ],
      "metadata": {
        "id": "NKkOHaY3jsDM"
      },
      "execution_count": null,
      "outputs": []
    },
    {
      "cell_type": "code",
      "source": [
        "import pandas as pd\n",
        "from mlxtend.frequent_patterns import apriori, association_rules\n",
        "\n",
        "dataset = [\n",
        "    ['Milk', 'Bread', 'Butter'],\n",
        "    ['Bread', 'Butter'],\n",
        "    ['Milk', 'Bread'],\n",
        "    ['Milk', 'Butter'],\n",
        "    ['Bread', 'Butter', 'Jam'],\n",
        "    ['Milk', 'Jam']\n",
        "]\n",
        "df=pd.DataFrame(dataset)\n",
        "df.columns=['item1','item2','item3']\n",
        "items=set()\n",
        "for col in df.columns:\n",
        "  items.update(df[col].unique())\n",
        "\n",
        "items=set([item for item in items if pd.notna(items)])\n",
        "encoded_val=[]\n",
        "for index,row in df.iterrows():\n",
        "  row_dict={item:0 for item in items}\n",
        "  row_dict.update({item:1 for item in row if pd.notna(item)})\n",
        "  encoded_val.append(row_dict)\n",
        "\n",
        "df1=pd.DataFrame(encoded_val)\n",
        "freq=apriori(df1,min_support=0.5,use_colnames=True)\n",
        "rules=association_rules(freq,metric=\"confidence\",min_threshold=0.7)\n",
        "print(freq)\n",
        "print(rules)"
      ],
      "metadata": {
        "colab": {
          "base_uri": "https://localhost:8080/"
        },
        "id": "bQDdg3rPjO4R",
        "outputId": "7b0822d2-381a-4e48-bf89-dd4849017bbd"
      },
      "execution_count": null,
      "outputs": [
        {
          "output_type": "stream",
          "name": "stdout",
          "text": [
            "    support         itemsets\n",
            "0  0.666667          (Bread)\n",
            "1  0.666667           (Milk)\n",
            "2  0.666667         (Butter)\n",
            "3  0.500000  (Bread, Butter)\n",
            "  antecedents consequents  antecedent support  consequent support  support  \\\n",
            "0     (Bread)    (Butter)            0.666667            0.666667      0.5   \n",
            "1    (Butter)     (Bread)            0.666667            0.666667      0.5   \n",
            "\n",
            "   confidence   lift  leverage  conviction  zhangs_metric  \n",
            "0        0.75  1.125  0.055556    1.333333       0.333333  \n",
            "1        0.75  1.125  0.055556    1.333333       0.333333  \n"
          ]
        },
        {
          "output_type": "stream",
          "name": "stderr",
          "text": [
            "/usr/local/lib/python3.10/dist-packages/mlxtend/frequent_patterns/fpcommon.py:109: DeprecationWarning: DataFrames with non-bool types result in worse computationalperformance and their support might be discontinued in the future.Please use a DataFrame with bool type\n",
            "  warnings.warn(\n"
          ]
        }
      ]
    },
    {
      "cell_type": "code",
      "source": [],
      "metadata": {
        "id": "n8JfSw0elUBS"
      },
      "execution_count": null,
      "outputs": []
    }
  ]
}